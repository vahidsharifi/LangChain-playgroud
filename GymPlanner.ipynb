{
 "cells": [
  {
   "cell_type": "markdown",
   "metadata": {},
   "source": [
    "# Imports"
   ]
  },
  {
   "cell_type": "code",
   "execution_count": 2,
   "metadata": {
    "ExecuteTime": {
     "end_time": "2023-08-15T23:35:16.549538Z",
     "start_time": "2023-08-15T23:35:16.141969Z"
    }
   },
   "outputs": [],
   "source": [
    "import os\n",
    "import openai\n",
    "from dotenv import load_dotenv, find_dotenv\n",
    "_ = load_dotenv(find_dotenv()) # read local .env file\n",
    "openai.api_key = os.environ['OPENAI_API_KEY']"
   ]
  },
  {
   "cell_type": "code",
   "execution_count": 3,
   "metadata": {
    "ExecuteTime": {
     "end_time": "2023-08-15T23:35:18.711070Z",
     "start_time": "2023-08-15T23:35:16.551576Z"
    }
   },
   "outputs": [],
   "source": [
    "from langchain.chat_models import ChatOpenAI\n",
    "from langchain.prompts import ChatPromptTemplate\n",
    "from langchain.chains import SequentialChain, LLMChain\n"
   ]
  },
  {
   "cell_type": "markdown",
   "metadata": {},
   "source": [
    "# Create Chat Instance "
   ]
  },
  {
   "cell_type": "code",
   "execution_count": 4,
   "metadata": {
    "ExecuteTime": {
     "end_time": "2023-08-15T23:35:18.713166Z",
     "start_time": "2023-08-15T23:35:18.690723Z"
    }
   },
   "outputs": [],
   "source": [
    "# To control the randomness and creativity of the generated\n",
    "# text by an LLM, use temperature = 0.0\n",
    "chat = ChatOpenAI(temperature=0.0)\n"
   ]
  },
  {
   "cell_type": "markdown",
   "metadata": {},
   "source": [
    "### Simple Chat"
   ]
  },
  {
   "cell_type": "code",
   "execution_count": 212,
   "metadata": {},
   "outputs": [],
   "source": [
    "### Prompt template\n",
    "template = \"\"\"\\\n",
    "I am a {age} years old {gender}.\\\n",
    "I am going to do workout {days} times a week.\\\n",
    "These days should'nt contain rest day\\\n",
    "Each session takes {duration}.\\\n",
    "Provide me the best gym plan to maximise the {goal}.\\\n",
    "Your response should'nt contain extera information such as advices.\n",
    "\n",
    "The template for the output is specify in between <<< >>>:\n",
    "\n",
    "<<<\n",
    "Day : Title\n",
    "- move name : amount\n",
    "\n",
    "Note :\n",
    ">>>\n",
    "\"\"\""
   ]
  },
  {
   "cell_type": "code",
   "execution_count": 213,
   "metadata": {},
   "outputs": [],
   "source": [
    "prompt_template = ChatPromptTemplate.from_template(template)"
   ]
  },
  {
   "cell_type": "code",
   "execution_count": 214,
   "metadata": {},
   "outputs": [
    {
     "name": "stdout",
     "output_type": "stream",
     "text": [
      "Day 1: Full Body Workout\n",
      "- Squats: 3 sets of 12 reps\n",
      "- Lunges: 3 sets of 12 reps (each leg)\n",
      "- Push-ups: 3 sets of 12 reps\n",
      "- Bent-over rows: 3 sets of 12 reps\n",
      "- Plank: 3 sets of 30 seconds\n",
      "\n",
      "Day 2: Cardio and Core\n",
      "- Jumping jacks: 3 sets of 30 seconds\n",
      "- Mountain climbers: 3 sets of 12 reps (each leg)\n",
      "- High knees: 3 sets of 30 seconds\n",
      "- Bicycle crunches: 3 sets of 12 reps (each side)\n",
      "- Russian twists: 3 sets of 12 reps (each side)\n",
      "\n",
      "Day 3: Upper Body Workout\n",
      "- Dumbbell shoulder press: 3 sets of 12 reps\n",
      "- Bicep curls: 3 sets of 12 reps\n",
      "- Tricep dips: 3 sets of 12 reps\n",
      "- Chest press: 3 sets of 12 reps\n",
      "- Plank shoulder taps: 3 sets of 12 reps (each side)\n",
      "\n",
      "Note: Remember to warm up before each workout and cool down/stretch afterwards.\n"
     ]
    }
   ],
   "source": [
    "message = prompt_template.format_messages(age='26', gender='girl', days='3', duration='30 minutes', goal='fat burn')\n",
    "response = chat(message)\n",
    "print(response.content)"
   ]
  },
  {
   "cell_type": "code",
   "execution_count": 215,
   "metadata": {},
   "outputs": [
    {
     "name": "stdout",
     "output_type": "stream",
     "text": [
      "Day 1: Upper Body Workout\n",
      "- Bench Press: 3 sets of 8-10 reps\n",
      "- Bent Over Rows: 3 sets of 8-10 reps\n",
      "- Shoulder Press: 3 sets of 8-10 reps\n",
      "- Bicep Curls: 3 sets of 8-10 reps\n",
      "- Tricep Dips: 3 sets of 8-10 reps\n",
      "\n",
      "Day 2: Lower Body Workout\n",
      "- Squats: 3 sets of 8-10 reps\n",
      "- Deadlifts: 3 sets of 8-10 reps\n",
      "- Lunges: 3 sets of 8-10 reps\n",
      "- Calf Raises: 3 sets of 8-10 reps\n",
      "- Leg Press: 3 sets of 8-10 reps\n",
      "\n",
      "Note: Make sure to warm up before each workout and cool down/stretch afterwards.\n"
     ]
    }
   ],
   "source": [
    "message = prompt_template.format_messages(age='26', gender='girl', days='2', duration='30 minutes', goal='Muscle growth')\n",
    "response = chat(message)\n",
    "print(response.content)"
   ]
  },
  {
   "cell_type": "markdown",
   "metadata": {},
   "source": [
    "### Chained Chat"
   ]
  },
  {
   "cell_type": "code",
   "execution_count": 229,
   "metadata": {},
   "outputs": [],
   "source": [
    "user_1 = {\n",
    "    \"age\": \"26\",\n",
    "    \"gender\": \"girl\",\n",
    "    \"days\": \"3\",\n",
    "    \"duration\": \"30 minutes\",\n",
    "    \"goal\": \"fat burn\",\n",
    "}"
   ]
  },
  {
   "cell_type": "code",
   "execution_count": 247,
   "metadata": {},
   "outputs": [],
   "source": [
    "### Prompt template\n",
    "\n",
    "template = \"\"\"\\\n",
    "I am a {age} years old {gender}.\\\n",
    "I am going to do workout {days} times a week.\\\n",
    "These days should'nt contain rest day.\\\n",
    "Each session takes {duration}.\\\n",
    "Provide me the best gym plan to maximise the {goal}.\\\n",
    "Your response should'nt contain extera information such as advices.\n",
    "\n",
    "The template for the output is specify in between <<< >>>:\n",
    "\n",
    "<<<\n",
    "Day : Title\n",
    "- move name : amount\n",
    "\n",
    "Note :\n",
    ">>>\n",
    "\"\"\"\n",
    "\n",
    "\n",
    "prompt_template = ChatPromptTemplate.from_template(template)\n",
    "# message = prompt_template.format_messages(age='26', gender='girl', days='2', duration='30 minutes', goal='Muscle growth')\n",
    "chain_1 = LLMChain(llm=chat, prompt=prompt_template, output_key='plan')"
   ]
  },
  {
   "cell_type": "code",
   "execution_count": 248,
   "metadata": {},
   "outputs": [
    {
     "name": "stdout",
     "output_type": "stream",
     "text": [
      "Day 1: Full Body Workout\n",
      "- Squats: 3 sets of 12 reps\n",
      "- Lunges: 3 sets of 12 reps (each leg)\n",
      "- Push-ups: 3 sets of 12 reps\n",
      "- Bent-over rows: 3 sets of 12 reps\n",
      "- Plank: 3 sets of 30 seconds\n",
      "\n",
      "Day 2: Cardio and Core\n",
      "- Jumping jacks: 3 sets of 30 seconds\n",
      "- Mountain climbers: 3 sets of 12 reps (each leg)\n",
      "- High knees: 3 sets of 30 seconds\n",
      "- Bicycle crunches: 3 sets of 12 reps (each side)\n",
      "- Russian twists: 3 sets of 12 reps (each side)\n",
      "\n",
      "Day 3: Upper Body Workout\n",
      "- Dumbbell shoulder press: 3 sets of 12 reps\n",
      "- Bicep curls: 3 sets of 12 reps\n",
      "- Tricep dips: 3 sets of 12 reps\n",
      "- Chest press: 3 sets of 12 reps\n",
      "- Plank with shoulder taps: 3 sets of 12 reps (each side)\n",
      "\n",
      "Note: Remember to warm up before each workout and cool down/stretch afterwards.\n"
     ]
    }
   ],
   "source": [
    "print(chain_1.run(age=user_1['age'], gender=user_1['gender'], days=user_1['days'], duration=user_1['duration'], goal=user_1['goal']))"
   ]
  },
  {
   "cell_type": "code",
   "execution_count": 261,
   "metadata": {},
   "outputs": [],
   "source": [
    "template_2 =\"\"\"\\\n",
    "Optimise the number of each set and its reps for the given workout plan in between <<<>>> for maximise {goal}.\\\n",
    "Be careful that the maximum duration of exercise for each session is {duration}\\\n",
    "The output template should be like the given plan.\\\n",
    "    \n",
    "    \n",
    "<<<{plan}>>>\n",
    "\"\"\"\n",
    "\n",
    "prompt_template_2 = ChatPromptTemplate.from_template(template_2)\n",
    "chain_2 = LLMChain(llm=chat, prompt=prompt_template_2, output_key='final_plan')\n"
   ]
  },
  {
   "cell_type": "code",
   "execution_count": 262,
   "metadata": {},
   "outputs": [],
   "source": [
    "overall_chain = SequentialChain(chains=[chain_1, chain_2], input_variables=['age', 'gender', 'days', 'duration', 'goal'],\n",
    "                                 output_variables=['plan', 'final_plan'], verbose=True)"
   ]
  },
  {
   "cell_type": "code",
   "execution_count": 263,
   "metadata": {},
   "outputs": [
    {
     "name": "stdout",
     "output_type": "stream",
     "text": [
      "\n",
      "\n",
      "\u001B[1m> Entering new SequentialChain chain...\u001B[0m\n"
     ]
    },
    {
     "name": "stderr",
     "output_type": "stream",
     "text": [
      "Retrying langchain.chat_models.openai.ChatOpenAI.completion_with_retry.<locals>._completion_with_retry in 1.0 seconds as it raised ServiceUnavailableError: The server is overloaded or not ready yet..\n"
     ]
    },
    {
     "name": "stdout",
     "output_type": "stream",
     "text": [
      "\n",
      "\u001B[1m> Finished chain.\u001B[0m\n"
     ]
    }
   ],
   "source": [
    "result = overall_chain(user_1)"
   ]
  },
  {
   "cell_type": "code",
   "execution_count": 264,
   "metadata": {},
   "outputs": [
    {
     "name": "stdout",
     "output_type": "stream",
     "text": [
      "Day 1: Full Body Workout\n",
      "- Squats: 3 sets of 12 reps\n",
      "- Lunges: 3 sets of 12 reps (each leg)\n",
      "- Push-ups: 3 sets of 12 reps\n",
      "- Bent-over rows: 3 sets of 12 reps\n",
      "- Plank: 3 sets of 30 seconds\n",
      "\n",
      "Day 2: Cardio and Core\n",
      "- Jumping jacks: 3 sets of 30 seconds\n",
      "- Mountain climbers: 3 sets of 12 reps (each leg)\n",
      "- High knees: 3 sets of 30 seconds\n",
      "- Bicycle crunches: 3 sets of 12 reps (each side)\n",
      "- Russian twists: 3 sets of 12 reps (each side)\n",
      "\n",
      "Day 3: Upper Body Workout\n",
      "- Dumbbell shoulder press: 3 sets of 12 reps\n",
      "- Bicep curls: 3 sets of 12 reps\n",
      "- Tricep dips: 3 sets of 12 reps\n",
      "- Chest press: 3 sets of 12 reps\n",
      "- Plank with shoulder taps: 3 sets of 12 reps (each side)\n",
      "\n",
      "Note: Remember to warm up before each workout and cool down/stretch afterwards.\n"
     ]
    }
   ],
   "source": [
    "print(result['plan'])"
   ]
  },
  {
   "cell_type": "code",
   "execution_count": 265,
   "metadata": {},
   "outputs": [
    {
     "name": "stdout",
     "output_type": "stream",
     "text": [
      "Day 1: Full Body Workout\n",
      "- Squats: 3 sets of 12 reps\n",
      "- Lunges: 3 sets of 12 reps (each leg)\n",
      "- Push-ups: 3 sets of 12 reps\n",
      "- Bent-over rows: 3 sets of 12 reps\n",
      "- Plank: 3 sets of 30 seconds\n",
      "\n",
      "Day 2: Cardio and Core\n",
      "- Jumping jacks: 3 sets of 30 seconds\n",
      "- Mountain climbers: 3 sets of 12 reps (each leg)\n",
      "- High knees: 3 sets of 30 seconds\n",
      "- Bicycle crunches: 3 sets of 12 reps (each side)\n",
      "- Russian twists: 3 sets of 12 reps (each side)\n",
      "\n",
      "Day 3: Upper Body Workout\n",
      "- Dumbbell shoulder press: 3 sets of 12 reps\n",
      "- Bicep curls: 3 sets of 12 reps\n",
      "- Tricep dips: 3 sets of 12 reps\n",
      "- Chest press: 3 sets of 12 reps\n",
      "- Plank with shoulder taps: 3 sets of 12 reps (each side)\n"
     ]
    }
   ],
   "source": [
    "print(result['final_plan'])"
   ]
  },
  {
   "cell_type": "code",
   "execution_count": null,
   "metadata": {},
   "outputs": [],
   "source": []
  }
 ],
 "metadata": {
  "kernelspec": {
   "display_name": "venv",
   "language": "python",
   "name": "python3"
  },
  "language_info": {
   "codemirror_mode": {
    "name": "ipython",
    "version": 3
   },
   "file_extension": ".py",
   "mimetype": "text/x-python",
   "name": "python",
   "nbconvert_exporter": "python",
   "pygments_lexer": "ipython3",
   "version": "3.11.4"
  },
  "orig_nbformat": 4
 },
 "nbformat": 4,
 "nbformat_minor": 2
}
