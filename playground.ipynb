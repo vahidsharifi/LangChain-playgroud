{
 "cells": [
  {
   "cell_type": "code",
   "execution_count": 3,
   "metadata": {},
   "outputs": [
    {
     "data": {
      "text/plain": [
       "True"
      ]
     },
     "execution_count": 3,
     "metadata": {},
     "output_type": "execute_result"
    }
   ],
   "source": [
    "from dotenv import load_dotenv, find_dotenv\n",
    "load_dotenv(find_dotenv())"
   ]
  },
  {
   "cell_type": "code",
   "execution_count": 5,
   "metadata": {},
   "outputs": [
    {
     "data": {
      "text/plain": [
       "'\\n\\nLangChain is a decentralized language learning platform that uses blockchain technology to facilitate the exchange of knowledge between language learners and teachers.'"
      ]
     },
     "execution_count": 5,
     "metadata": {},
     "output_type": "execute_result"
    }
   ],
   "source": [
    "from langchain.llms import OpenAI\n",
    "llm = OpenAI(tiktoken_model_name=\"text-davinci-003\")\n",
    "llm(\"explain what is LangChain in one sentence\")"
   ]
  },
  {
   "cell_type": "code",
   "execution_count": 6,
   "metadata": {},
   "outputs": [],
   "source": [
    "from langchain.schema import (\n",
    "    AIMessage,\n",
    "    SystemMessage,\n",
    "    HumanMessage\n",
    ")\n",
    "from langchain.chat_models import ChatOpenAI"
   ]
  },
  {
   "cell_type": "code",
   "execution_count": 8,
   "metadata": {},
   "outputs": [],
   "source": [
    "chat = ChatOpenAI(model_name=\"gpt-3.5-turbo\", temperature=0.3)\n",
    "message = [\n",
    "    SystemMessage(content=\"You are an expert data scientist\"),\n",
    "    HumanMessage(content=\"Write a Python sctipt that run box-cox transformation on numerical columns of a dataframe.\")\n",
    "]\n",
    "response = chat(message)"
   ]
  },
  {
   "cell_type": "code",
   "execution_count": 22,
   "metadata": {},
   "outputs": [
    {
     "name": "stdout",
     "output_type": "stream",
     "text": [
      "Sure! Here's a Python script that uses the `scipy` library to perform the Box-Cox transformation on numerical columns of a dataframe:\n",
      "\n",
      "```python\n",
      "import pandas as pd\n",
      "from scipy import stats\n",
      "\n",
      "def boxcox_transform(df):\n",
      "    # Create a new dataframe to store the transformed values\n",
      "    transformed_df = pd.DataFrame()\n",
      "\n",
      "    # Iterate over each column in the dataframe\n",
      "    for column in df.columns:\n",
      "        # Check if the column is numeric\n",
      "        if pd.api.types.is_numeric_dtype(df[column]):\n",
      "            # Apply the Box-Cox transformation\n",
      "            transformed_data, _ = stats.boxcox(df[column])\n",
      "\n",
      "            # Add the transformed values to the new dataframe\n",
      "            transformed_df[column] = transformed_data\n",
      "        else:\n",
      "            # If the column is not numeric, add it as it is to the new dataframe\n",
      "            transformed_df[column] = df[column]\n",
      "\n",
      "    return transformed_df\n",
      "\n",
      "# Example usage\n",
      "# Create a sample dataframe\n",
      "data = {'A': [1, 2, 3, 4, 5],\n",
      "        'B': [6, 7, 8, 9, 10],\n",
      "        'C': ['a', 'b', 'c', 'd', 'e']}\n",
      "df = pd.DataFrame(data)\n",
      "\n",
      "# Apply the Box-Cox transformation on the numerical columns\n",
      "transformed_df = boxcox_transform(df)\n",
      "\n",
      "# Print the original and transformed dataframes\n",
      "print(\"Original dataframe:\")\n",
      "print(df)\n",
      "print(\"\\nTransformed dataframe:\")\n",
      "print(transformed_df)\n",
      "```\n",
      "\n",
      "In this script, the `boxcox_transform` function takes a dataframe as input and returns a new dataframe with the Box-Cox transformed values. It iterates over each column in the dataframe and checks if the column is numeric using the `is_numeric_dtype` function from the `pandas` library. If the column is numeric, it applies the `boxcox` transformation from the `scipy` library and adds the transformed values to the new dataframe. If the column is not numeric, it adds it as it is to the new dataframe. Finally, it returns the transformed dataframe.\n",
      "\n",
      "You can replace the example usage with your own dataframe to apply the Box-Cox transformation on your data.\n"
     ]
    }
   ],
   "source": [
    "print(response.content, end='\\n')"
   ]
  },
  {
   "cell_type": "code",
   "execution_count": 56,
   "metadata": {},
   "outputs": [],
   "source": [
    "from langchain import PromptTemplate\n",
    "\n",
    "template = \"\"\"\n",
    "You are an expert in psychology especially emotions. You get a negative emotion name and give advice to turn that emotion to happiness.\n",
    "Explain how to turn feeling {negative_emotion} to hapiness in three steps.\n",
    "\"\"\"\n",
    "\n",
    "prompt = PromptTemplate(\n",
    "    input_variables=[\"negative_emotion\"],\n",
    "    template=template,\n",
    "\n",
    ")"
   ]
  },
  {
   "cell_type": "code",
   "execution_count": 31,
   "metadata": {},
   "outputs": [],
   "source": [
    "response = llm(prompt.format(negative_emotion='anger'))"
   ]
  },
  {
   "cell_type": "code",
   "execution_count": 32,
   "metadata": {},
   "outputs": [
    {
     "name": "stdout",
     "output_type": "stream",
     "text": [
      "\n",
      "1. Acknowledge Your Anger: The first step to turning anger into happiness is to acknowledge that you are feeling angry. Take a few moments to reflect on the situation that is causing your anger, and identify the thoughts, sensations, and behaviors that accompany the emotion.\n",
      "\n",
      "2. Reframe Your Perspective: After you have acknowledged your anger, it’s important to reframe your perspective on the situation. Remind yourself that even though it might feel like the situation is out of your control, you can choose how you respond to it. Take a moment to practice mindful breathing, and focus on creating positive thoughts about the situation.\n",
      "\n",
      "3. Take Action: Once you’ve acknowledged your anger and reframed your perspective, it’s time to take action to turn your anger into happiness. This can look different for everyone, but some examples include: writing down your feelings in a journal, engaging in relaxing activities like yoga or meditation, or talking to a friend for support. Taking action can help you process your emotions in a healthy way and eventually find happiness.\n"
     ]
    }
   ],
   "source": [
    "print(response)"
   ]
  },
  {
   "cell_type": "code",
   "execution_count": 58,
   "metadata": {},
   "outputs": [
    {
     "name": "stdout",
     "output_type": "stream",
     "text": [
      "\n",
      "1. Connect with Others: Spend time with people who make you feel good and reach out to those you trust. Connecting with others can help you feel less isolated and can boost your mood.\n",
      "\n",
      "2. Find Meaningful Activities: Doing activities that are meaningful to you, such as volunteering, taking classes, or pursuing a hobby, can help you feel more connected and give you a sense of purpose.\n",
      "\n",
      "3. Practice Self-Care: Make sure to take care of your physical and mental health needs. Take time for yourself to do activities that make you feel good, such as reading, exercising, or listening to music.\n"
     ]
    }
   ],
   "source": [
    "from langchain.chains import LLMChain\n",
    "chain = LLMChain(llm=llm, prompt=prompt)\n",
    "\n",
    "# Run the Chain only specifying the input variable\n",
    "print(chain.run(\"loneliness\"))"
   ]
  },
  {
   "cell_type": "markdown",
   "metadata": {},
   "source": [
    "#### Benchmark for differenc SimpleSequencialChain"
   ]
  },
  {
   "cell_type": "code",
   "execution_count": 59,
   "metadata": {},
   "outputs": [],
   "source": [
    "second_prompt = PromptTemplate(\n",
    "    input_variables=[\"negative_emotion\"],\n",
    "    template=\"Turn each step of {negative_emotion}, to three sub-steps.\",\n",
    ")\n",
    "chain_two = LLMChain(llm=llm, prompt=second_prompt)"
   ]
  },
  {
   "cell_type": "code",
   "execution_count": 60,
   "metadata": {},
   "outputs": [
    {
     "name": "stdout",
     "output_type": "stream",
     "text": [
      "\n",
      "\n",
      "\u001b[1m> Entering new SimpleSequentialChain chain...\u001b[0m\n",
      "\u001b[36;1m\u001b[1;3m\n",
      "1. Identify the source of the frustration: Before trying to turn frustration into happiness, it is important to take a moment to identify what is causing the frustration. Is it a certain task or activity? A person or situation? Once the source of the frustration is identified, it can be easier to address the issue.\n",
      "\n",
      "2. Find a solution: Once the source of the frustration is identified, it is important to find a solution or action plan to resolve the issue. This might involve asking for help, doing research, or taking a break from the task. \n",
      "\n",
      "3. Take time to relax: Once a solution has been found, it is important to take time to relax and reflect on the situation. This might involve taking a few deep breaths, going for a walk, or doing something that brings joy. Taking time to relax will help to refocus the mind and shift from feeling frustrated to feeling happy.\u001b[0m\n",
      "\u001b[33;1m\u001b[1;3m\n",
      "\n",
      "A. Identify the source of the frustration\n",
      "\n",
      "B. Find a solution\n",
      "\n",
      "C. Take time to relax\u001b[0m\n",
      "\n",
      "\u001b[1m> Finished chain.\u001b[0m\n",
      "\n",
      "\n",
      "A. Identify the source of the frustration\n",
      "\n",
      "B. Find a solution\n",
      "\n",
      "C. Take time to relax\n"
     ]
    }
   ],
   "source": [
    "from langchain.chains import SimpleSequentialChain\n",
    "overall_chain = SimpleSequentialChain(chains=[chain, chain_two], verbose=True)\n",
    "\n",
    "# Run the shain specifying only the input variable for the first chain\n",
    "explanation = overall_chain.run(\"fraustration\")\n",
    "print(explanation)"
   ]
  },
  {
   "cell_type": "code",
   "execution_count": 61,
   "metadata": {},
   "outputs": [
    {
     "name": "stdout",
     "output_type": "stream",
     "text": [
      "\n",
      "\n",
      "\u001b[1m> Entering new SimpleSequentialChain chain...\u001b[0m\n",
      "\u001b[36;1m\u001b[1;3m\n",
      "1. Take a Break: When feeling frustrated, it is important to take a short break to gather yourself and clear your mind. Step away from the situation for a few minutes and take deep breaths. This will help to reduce the intensity of the emotion.\n",
      "\n",
      "2. Change Your Perspective: Reframe the situation and look at it in a different way. Ask yourself what the positive aspects of the situation are and focus on that. This will help to shift your focus to the positive aspects of the situation.\n",
      "\n",
      "3. Take Action: Choose to act in a way that will bring about positive results. Take action to address the underlying cause of the frustration. Develop a plan of action and take small steps to make progress toward a positive outcome. This will help to reduce the feelings of frustration and create a sense of accomplishment.\u001b[0m\n",
      "\u001b[33;1m\u001b[1;3m\n",
      "\n",
      "Sub-Step 1: Take a Break: Find a quiet space and take a few deep breaths to help clear your mind.\n",
      "\n",
      "Sub-Step 2: Change Your Perspective: Shift your focus to the positive aspects of the situation by asking yourself what the positive aspects are.\n",
      "\n",
      "Sub-Step 3: Take Action: Develop a plan of action to address the underlying cause of the frustration and take small steps to make progress.\u001b[0m\n",
      "\n",
      "\u001b[1m> Finished chain.\u001b[0m\n",
      "\n",
      "\n",
      "Sub-Step 1: Take a Break: Find a quiet space and take a few deep breaths to help clear your mind.\n",
      "\n",
      "Sub-Step 2: Change Your Perspective: Shift your focus to the positive aspects of the situation by asking yourself what the positive aspects are.\n",
      "\n",
      "Sub-Step 3: Take Action: Develop a plan of action to address the underlying cause of the frustration and take small steps to make progress.\n"
     ]
    }
   ],
   "source": [
    "second_prompt = PromptTemplate(\n",
    "    input_variables=[\"negative_emotion\"],\n",
    "    template=\"Turn each step of three steps for changing {negative_emotion} to hapiness, to three sub-steps.\",\n",
    ")\n",
    "chain_two = LLMChain(llm=llm, prompt=second_prompt)\n",
    "\n",
    "overall_chain = SimpleSequentialChain(chains=[chain, chain_two], verbose=True)\n",
    "\n",
    "# Run the shain specifying only the input variable for the first chain\n",
    "explanation = overall_chain.run(\"fraustration\")\n",
    "print(explanation)"
   ]
  },
  {
   "cell_type": "markdown",
   "metadata": {},
   "source": [
    "#### Same prompt but to check the difference between each response"
   ]
  },
  {
   "cell_type": "code",
   "execution_count": 62,
   "metadata": {},
   "outputs": [
    {
     "name": "stdout",
     "output_type": "stream",
     "text": [
      "\n",
      "\n",
      "\u001b[1m> Entering new SimpleSequentialChain chain...\u001b[0m\n",
      "\u001b[36;1m\u001b[1;3m\n",
      "1. Take a break: Step away from the situation that is causing your frustration and take a few moments for yourself to recenter. This could be as simple as stepping outside for a few minutes or going for a walk.\n",
      "\n",
      "2. Reframe your thoughts: Observe your thoughts and try to reframe them in a more positive light. Instead of feeling overwhelmed, focus on the progress you’ve made and how far you’ve come.\n",
      "\n",
      "3. Practice gratitude: Take a moment to be grateful for something in your life. This could be anything from the people around you to the sunshine in the sky. Gratitude helps to put our lives into perspective and can help to shift our emotions from frustration to happiness.\u001b[0m\n",
      "\u001b[33;1m\u001b[1;3m\n",
      "\n",
      "Sub-Step 1: Step away from the situation and take a few moments for yourself.\n",
      "\n",
      "Sub-Step 2: Observe your thoughts and reframe them into a more positive light.\n",
      "\n",
      "Sub-Step 3: Take a moment to be grateful for something in your life.\u001b[0m\n",
      "\n",
      "\u001b[1m> Finished chain.\u001b[0m\n",
      "\n",
      "\n",
      "Sub-Step 1: Step away from the situation and take a few moments for yourself.\n",
      "\n",
      "Sub-Step 2: Observe your thoughts and reframe them into a more positive light.\n",
      "\n",
      "Sub-Step 3: Take a moment to be grateful for something in your life.\n"
     ]
    }
   ],
   "source": [
    "second_prompt = PromptTemplate(\n",
    "    input_variables=[\"negative_emotion\"],\n",
    "    template=\"Turn each step of three steps for changing {negative_emotion} to hapiness, to three sub-steps.\",\n",
    ")\n",
    "chain_two = LLMChain(llm=llm, prompt=second_prompt)\n",
    "\n",
    "overall_chain = SimpleSequentialChain(chains=[chain, chain_two], verbose=True)\n",
    "\n",
    "\n",
    "# Run the shain specifying only the input variable for the first chain\n",
    "explanation = overall_chain.run(\"fraustration\")\n",
    "print(explanation)"
   ]
  },
  {
   "cell_type": "code",
   "execution_count": null,
   "metadata": {},
   "outputs": [],
   "source": []
  },
  {
   "cell_type": "markdown",
   "metadata": {},
   "source": [
    "#### Another example to understand how it works"
   ]
  },
  {
   "cell_type": "code",
   "execution_count": 63,
   "metadata": {},
   "outputs": [
    {
     "name": "stdout",
     "output_type": "stream",
     "text": [
      "\n",
      "1. Frustration\n",
      "2. Resentment\n",
      "3. Hostility\n"
     ]
    }
   ],
   "source": [
    "from langchain import PromptTemplate\n",
    "\n",
    "template = \"\"\"\n",
    "You are an expert in psychology especially emotions. You get a negative emotion name and return three other emotions name which usually comes from with it.\n",
    "List the name of three emotions comes with {emotion}.\n",
    "\"\"\"\n",
    "\n",
    "prompt = PromptTemplate(\n",
    "    input_variables=[\"emotion\"],\n",
    "    template=template,\n",
    "\n",
    ")\n",
    "\n",
    "chain = LLMChain(llm=llm, prompt=prompt)\n",
    "\n",
    "# Run the Chain only specifying the input variable\n",
    "print(chain.run(\"anger\"))"
   ]
  },
  {
   "cell_type": "code",
   "execution_count": 68,
   "metadata": {},
   "outputs": [],
   "source": [
    "second_prompt = PromptTemplate(\n",
    "    input_variables=[\"emotions_list\"],\n",
    "    template=\"Explain each of given emotions in two lines. The emotions are {emotions_list}.\",\n",
    ")\n",
    "chain_two = LLMChain(llm=llm, prompt=second_prompt)"
   ]
  },
  {
   "cell_type": "code",
   "execution_count": 69,
   "metadata": {},
   "outputs": [
    {
     "name": "stdout",
     "output_type": "stream",
     "text": [
      "\n",
      "\n",
      "\u001b[1m> Entering new SimpleSequentialChain chain...\u001b[0m\n",
      "\u001b[36;1m\u001b[1;3m\n",
      "1. Frustration\n",
      "2. Resentment\n",
      "3. Disgust\u001b[0m\n",
      "\u001b[33;1m\u001b[1;3m\n",
      "\n",
      "1. Frustration: Frustration is an emotion characterized by feelings of anger, disappointment, and dissatisfaction due to an inability to achieve a desired outcome.\n",
      "\n",
      "2. Resentment: Resentment is an emotion characterized by a strong feeling of displeasure or indignation caused by a perceived wrong or insult.\n",
      "\n",
      "3. Disgust: Disgust is an emotion characterized by an aversion to something considered unpleasant, offensive, or repulsive.\u001b[0m\n",
      "\n",
      "\u001b[1m> Finished chain.\u001b[0m\n",
      "\n",
      "\n",
      "1. Frustration: Frustration is an emotion characterized by feelings of anger, disappointment, and dissatisfaction due to an inability to achieve a desired outcome.\n",
      "\n",
      "2. Resentment: Resentment is an emotion characterized by a strong feeling of displeasure or indignation caused by a perceived wrong or insult.\n",
      "\n",
      "3. Disgust: Disgust is an emotion characterized by an aversion to something considered unpleasant, offensive, or repulsive.\n"
     ]
    }
   ],
   "source": [
    "overall_chain = SimpleSequentialChain(chains=[chain, chain_two], verbose=True)\n",
    "\n",
    "# Run the shain specifying only the input variable for the first chain\n",
    "explanation = overall_chain.run(\"anger\")\n",
    "print(explanation)"
   ]
  },
  {
   "cell_type": "code",
   "execution_count": null,
   "metadata": {},
   "outputs": [],
   "source": []
  },
  {
   "cell_type": "markdown",
   "metadata": {},
   "source": [
    "#### Persian Joke"
   ]
  },
  {
   "cell_type": "code",
   "execution_count": 90,
   "metadata": {},
   "outputs": [
    {
     "name": "stdout",
     "output_type": "stream",
     "text": [
      "\n",
      "Foolish or stupid.\n"
     ]
    }
   ],
   "source": [
    "from langchain import PromptTemplate\n",
    "\n",
    "template = \"\"\"\n",
    "You are a Translator from Persian to English.\n",
    "What is the meaning of {word} in english?\n",
    "\"\"\"\n",
    "\n",
    "first_prompt = PromptTemplate(\n",
    "    input_variables=['word'],\n",
    "    template=template,\n",
    "\n",
    ")\n",
    "\n",
    "chain = LLMChain(llm=llm, prompt=first_prompt)\n",
    "\n",
    "# Run the Chain only specifying the input variable\n",
    "print(chain.run('احمق'))"
   ]
  },
  {
   "cell_type": "code",
   "execution_count": 99,
   "metadata": {},
   "outputs": [
    {
     "name": "stdout",
     "output_type": "stream",
     "text": [
      "\n",
      "\n",
      "\u001b[1m> Entering new SimpleSequentialChain chain...\u001b[0m\n",
      "\u001b[36;1m\u001b[1;3m\n",
      "Clothing.\u001b[0m\n",
      "\u001b[33;1m\u001b[1;3m\n",
      "Q: What did one shirt say to the other?\n",
      "A: \"You go ahead and I'll hang around!\"\u001b[0m\n",
      "\u001b[38;5;200m\u001b[1;3m\n",
      "\n",
      "؟چه چیزی یک لباس به دیگرش گفت؟\n",
      "جواب: «شما بروید و من میمانم!»\u001b[0m\n",
      "\n",
      "\u001b[1m> Finished chain.\u001b[0m\n",
      "\n",
      "\n",
      "؟چه چیزی یک لباس به دیگرش گفت؟\n",
      "جواب: «شما بروید و من میمانم!»\n"
     ]
    }
   ],
   "source": [
    "template = \"\"\"\n",
    "You are a Translator from Persian to English.\n",
    "What is the meaning of {word} in english?\n",
    "\"\"\"\n",
    "\n",
    "first_prompt = PromptTemplate(\n",
    "    input_variables=['word'],\n",
    "    template=template,\n",
    "\n",
    ")\n",
    "\n",
    "chain_one = LLMChain(llm=llm, prompt=first_prompt)\n",
    "\n",
    "\n",
    "second_prompt = PromptTemplate(\n",
    "    input_variables=[\"topic\"],\n",
    "    template=\" You are a funny standup comedian who cracks funny jokes. Tell me a joke about {topic}.\",\n",
    ")\n",
    "\n",
    "chain_two = LLMChain(llm=llm, prompt=second_prompt)\n",
    "\n",
    "\n",
    "\n",
    "third_prompt = PromptTemplate(\n",
    "    input_variables=[\"joke\"],\n",
    "    template=\"You are a Translator from Englihs to Persian. Translate this joke to persian: {joke} \",\n",
    ")\n",
    "chain_three = LLMChain(llm=llm, prompt=third_prompt)\n",
    "\n",
    "\n",
    "overall_chain = SimpleSequentialChain(chains=[chain_one, chain_two, chain_three], verbose=True)\n",
    "\n",
    "# Run the shain specifying only the input variable for the first chain\n",
    "explanation = overall_chain.run(\"لباس\")\n",
    "print(explanation)\n"
   ]
  },
  {
   "cell_type": "code",
   "execution_count": 92,
   "metadata": {},
   "outputs": [
    {
     "name": "stdout",
     "output_type": "stream",
     "text": [
      "\n",
      "آقای اسکل به کارت بانکی که سر روز باید به خودش بدهد گفت: این بار این بار نمی‌خواهم تشویق بشه، همه چیزشو فقط یه بار بخوام!\n"
     ]
    }
   ],
   "source": [
    "from langchain import PromptTemplate\n",
    "\n",
    "template = \"\"\"\n",
    "You are a funny standup comedian crack funny jokes.\n",
    "Tell me a joke in persian about {topic}.\n",
    "\"\"\"\n",
    "\n",
    "prompt = PromptTemplate(\n",
    "    input_variables=['topic'],\n",
    "    template=template,\n",
    "\n",
    ")\n",
    "\n",
    "chain = LLMChain(llm=llm, prompt=prompt)\n",
    "\n",
    "# Run the Chain only specifying the input variable\n",
    "print(chain.run('اسکل'))"
   ]
  },
  {
   "cell_type": "code",
   "execution_count": null,
   "metadata": {},
   "outputs": [],
   "source": []
  },
  {
   "cell_type": "code",
   "execution_count": null,
   "metadata": {},
   "outputs": [],
   "source": []
  },
  {
   "cell_type": "code",
   "execution_count": null,
   "metadata": {},
   "outputs": [],
   "source": []
  },
  {
   "cell_type": "code",
   "execution_count": null,
   "metadata": {},
   "outputs": [],
   "source": []
  },
  {
   "cell_type": "code",
   "execution_count": null,
   "metadata": {},
   "outputs": [],
   "source": []
  },
  {
   "cell_type": "code",
   "execution_count": null,
   "metadata": {},
   "outputs": [],
   "source": []
  },
  {
   "cell_type": "code",
   "execution_count": null,
   "metadata": {},
   "outputs": [],
   "source": []
  },
  {
   "cell_type": "markdown",
   "metadata": {},
   "source": [
    "#### Sport Planner"
   ]
  },
  {
   "cell_type": "code",
   "execution_count": 82,
   "metadata": {},
   "outputs": [
    {
     "name": "stdout",
     "output_type": "stream",
     "text": [
      "\n",
      "Monday:\n",
      "\n",
      "• Warm-up - 10 minutes of light cardio (e.g. jogging, brisk walking, cycling, etc.)\n",
      "\n",
      "• Chest - 3 sets of 8-10 reps of bench press, 3 sets of 8-10 reps of incline bench press, 3 sets of 8-10 reps of dumbbell flyes\n",
      "\n",
      "• Back - 3 sets of 8-10 reps of pull-ups, 3 sets of 8-10 reps of bent over rows, 3 sets of 8-10 reps of lat pulldowns\n",
      "\n",
      "• Legs - 3 sets of 8-10 reps of squats, 3 sets of 8-10 reps of deadlifts, 3 sets of 8-10 reps of leg press\n",
      "\n",
      "• Shoulders - 3 sets of 8-10 reps of shoulder press, 3 sets of 8-10 reps of lateral raises, 3 sets of 8-10 reps of front raises\n",
      "\n",
      "• Biceps - 3 sets of 8-10 reps of bicep curls, 3 sets of 8-10 reps of hammer curls\n",
      "\n",
      "• Triceps - 3 sets of 8-10 reps of tricep dips, 3 sets of 8-10 reps of tricep extensions\n",
      "\n",
      "• Core - 3 sets of 8-\n"
     ]
    }
   ],
   "source": [
    "from langchain import PromptTemplate\n",
    "\n",
    "template = \"\"\"\n",
    "You are an expert in Sports. You generate workout plan based on given information.\n",
    "What is the best plan for maximizing {goal} if I want to do exercise {duration} per day, {days} times per week? \n",
    "\"\"\"\n",
    "\n",
    "prompt = PromptTemplate(\n",
    "    input_variables=[\"days\", \"duration\", \"goal\"],\n",
    "    template=template,\n",
    "\n",
    ")\n",
    "\n",
    "chain = LLMChain(llm=llm, prompt=prompt)\n",
    "\n",
    "# Run the Chain only specifying the input variable\n",
    "print(chain.run(days=\"five\", duration=\"60 minutes\", goal=\"gain muscle\"))"
   ]
  },
  {
   "cell_type": "code",
   "execution_count": null,
   "metadata": {},
   "outputs": [],
   "source": []
  }
 ],
 "metadata": {
  "kernelspec": {
   "display_name": "venv",
   "language": "python",
   "name": "python3"
  },
  "language_info": {
   "codemirror_mode": {
    "name": "ipython",
    "version": 3
   },
   "file_extension": ".py",
   "mimetype": "text/x-python",
   "name": "python",
   "nbconvert_exporter": "python",
   "pygments_lexer": "ipython3",
   "version": "3.11.4"
  },
  "orig_nbformat": 4
 },
 "nbformat": 4,
 "nbformat_minor": 2
}
