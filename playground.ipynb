{
 "cells": [
  {
   "cell_type": "code",
   "execution_count": 3,
   "metadata": {},
   "outputs": [
    {
     "data": {
      "text/plain": [
       "True"
      ]
     },
     "execution_count": 3,
     "metadata": {},
     "output_type": "execute_result"
    }
   ],
   "source": [
    "from dotenv import load_dotenv, find_dotenv\n",
    "load_dotenv(find_dotenv())"
   ]
  },
  {
   "cell_type": "code",
   "execution_count": 5,
   "metadata": {},
   "outputs": [
    {
     "data": {
      "text/plain": [
       "'\\n\\nLangChain is a decentralized language learning platform that uses blockchain technology to facilitate the exchange of knowledge between language learners and teachers.'"
      ]
     },
     "execution_count": 5,
     "metadata": {},
     "output_type": "execute_result"
    }
   ],
   "source": [
    "from langchain.llms import OpenAI\n",
    "llm = OpenAI(tiktoken_model_name=\"text-davinci-003\")\n",
    "llm(\"explain what is LangChain in one sentence\")"
   ]
  },
  {
   "cell_type": "code",
   "execution_count": 6,
   "metadata": {},
   "outputs": [],
   "source": [
    "from langchain.schema import (\n",
    "    AIMessage,\n",
    "    SystemMessage,\n",
    "    HumanMessage\n",
    ")\n",
    "from langchain.chat_models import ChatOpenAI"
   ]
  },
  {
   "cell_type": "code",
   "execution_count": 8,
   "metadata": {},
   "outputs": [],
   "source": [
    "chat = ChatOpenAI(model_name=\"gpt-3.5-turbo\", temperature=0.3)\n",
    "message = [\n",
    "    SystemMessage(content=\"You are an expert data scientist\"),\n",
    "    HumanMessage(content=\"Write a Python sctipt that run box-cox transformation on numerical columns of a dataframe.\")\n",
    "]\n",
    "response = chat(message)"
   ]
  },
  {
   "cell_type": "code",
   "execution_count": 22,
   "metadata": {},
   "outputs": [
    {
     "name": "stdout",
     "output_type": "stream",
     "text": [
      "Sure! Here's a Python script that uses the `scipy` library to perform the Box-Cox transformation on numerical columns of a dataframe:\n",
      "\n",
      "```python\n",
      "import pandas as pd\n",
      "from scipy import stats\n",
      "\n",
      "def boxcox_transform(df):\n",
      "    # Create a new dataframe to store the transformed values\n",
      "    transformed_df = pd.DataFrame()\n",
      "\n",
      "    # Iterate over each column in the dataframe\n",
      "    for column in df.columns:\n",
      "        # Check if the column is numeric\n",
      "        if pd.api.types.is_numeric_dtype(df[column]):\n",
      "            # Apply the Box-Cox transformation\n",
      "            transformed_data, _ = stats.boxcox(df[column])\n",
      "\n",
      "            # Add the transformed values to the new dataframe\n",
      "            transformed_df[column] = transformed_data\n",
      "        else:\n",
      "            # If the column is not numeric, add it as it is to the new dataframe\n",
      "            transformed_df[column] = df[column]\n",
      "\n",
      "    return transformed_df\n",
      "\n",
      "# Example usage\n",
      "# Create a sample dataframe\n",
      "data = {'A': [1, 2, 3, 4, 5],\n",
      "        'B': [6, 7, 8, 9, 10],\n",
      "        'C': ['a', 'b', 'c', 'd', 'e']}\n",
      "df = pd.DataFrame(data)\n",
      "\n",
      "# Apply the Box-Cox transformation on the numerical columns\n",
      "transformed_df = boxcox_transform(df)\n",
      "\n",
      "# Print the original and transformed dataframes\n",
      "print(\"Original dataframe:\")\n",
      "print(df)\n",
      "print(\"\\nTransformed dataframe:\")\n",
      "print(transformed_df)\n",
      "```\n",
      "\n",
      "In this script, the `boxcox_transform` function takes a dataframe as input and returns a new dataframe with the Box-Cox transformed values. It iterates over each column in the dataframe and checks if the column is numeric using the `is_numeric_dtype` function from the `pandas` library. If the column is numeric, it applies the `boxcox` transformation from the `scipy` library and adds the transformed values to the new dataframe. If the column is not numeric, it adds it as it is to the new dataframe. Finally, it returns the transformed dataframe.\n",
      "\n",
      "You can replace the example usage with your own dataframe to apply the Box-Cox transformation on your data.\n"
     ]
    }
   ],
   "source": [
    "print(response.content, end='\\n')"
   ]
  },
  {
   "cell_type": "code",
   "execution_count": 56,
   "metadata": {},
   "outputs": [],
   "source": [
    "from langchain import PromptTemplate\n",
    "\n",
    "template = \"\"\"\n",
    "You are an expert in psychology especially emotions. You get a negative emotion name and give advice to turn that emotion to happiness.\n",
    "Explain how to turn feeling {negative_emotion} to hapiness in three steps.\n",
    "\"\"\"\n",
    "\n",
    "prompt = PromptTemplate(\n",
    "    input_variables=[\"negative_emotion\"],\n",
    "    template=template,\n",
    "\n",
    ")"
   ]
  },
  {
   "cell_type": "code",
   "execution_count": 31,
   "metadata": {},
   "outputs": [],
   "source": [
    "response = llm(prompt.format(negative_emotion='anger'))"
   ]
  },
  {
   "cell_type": "code",
   "execution_count": 32,
   "metadata": {},
   "outputs": [
    {
     "name": "stdout",
     "output_type": "stream",
     "text": [
      "\n",
      "1. Acknowledge Your Anger: The first step to turning anger into happiness is to acknowledge that you are feeling angry. Take a few moments to reflect on the situation that is causing your anger, and identify the thoughts, sensations, and behaviors that accompany the emotion.\n",
      "\n",
      "2. Reframe Your Perspective: After you have acknowledged your anger, it’s important to reframe your perspective on the situation. Remind yourself that even though it might feel like the situation is out of your control, you can choose how you respond to it. Take a moment to practice mindful breathing, and focus on creating positive thoughts about the situation.\n",
      "\n",
      "3. Take Action: Once you’ve acknowledged your anger and reframed your perspective, it’s time to take action to turn your anger into happiness. This can look different for everyone, but some examples include: writing down your feelings in a journal, engaging in relaxing activities like yoga or meditation, or talking to a friend for support. Taking action can help you process your emotions in a healthy way and eventually find happiness.\n"
     ]
    }
   ],
   "source": [
    "print(response)"
   ]
  },
  {
   "cell_type": "code",
   "execution_count": 58,
   "metadata": {},
   "outputs": [
    {
     "name": "stdout",
     "output_type": "stream",
     "text": [
      "\n",
      "1. Connect with Others: Spend time with people who make you feel good and reach out to those you trust. Connecting with others can help you feel less isolated and can boost your mood.\n",
      "\n",
      "2. Find Meaningful Activities: Doing activities that are meaningful to you, such as volunteering, taking classes, or pursuing a hobby, can help you feel more connected and give you a sense of purpose.\n",
      "\n",
      "3. Practice Self-Care: Make sure to take care of your physical and mental health needs. Take time for yourself to do activities that make you feel good, such as reading, exercising, or listening to music.\n"
     ]
    }
   ],
   "source": [
    "from langchain.chains import LLMChain\n",
    "chain = LLMChain(llm=llm, prompt=prompt)\n",
    "\n",
    "# Run the Chain only specifying the input variable\n",
    "print(chain.run(\"loneliness\"))"
   ]
  },
  {
   "cell_type": "markdown",
   "metadata": {},
   "source": [
    "#### Benchmark for differenc SimpleSequencialChain"
   ]
  },
  {
   "cell_type": "code",
   "execution_count": 59,
   "metadata": {},
   "outputs": [],
   "source": [
    "second_prompt = PromptTemplate(\n",
    "    input_variables=[\"negative_emotion\"],\n",
    "    template=\"Turn each step of {negative_emotion}, to three sub-steps.\",\n",
    ")\n",
    "chain_two = LLMChain(llm=llm, prompt=second_prompt)"
   ]
  },
  {
   "cell_type": "code",
   "execution_count": 60,
   "metadata": {},
   "outputs": [
    {
     "name": "stdout",
     "output_type": "stream",
     "text": [
      "\n",
      "\n",
      "\u001b[1m> Entering new SimpleSequentialChain chain...\u001b[0m\n",
      "\u001b[36;1m\u001b[1;3m\n",
      "1. Identify the source of the frustration: Before trying to turn frustration into happiness, it is important to take a moment to identify what is causing the frustration. Is it a certain task or activity? A person or situation? Once the source of the frustration is identified, it can be easier to address the issue.\n",
      "\n",
      "2. Find a solution: Once the source of the frustration is identified, it is important to find a solution or action plan to resolve the issue. This might involve asking for help, doing research, or taking a break from the task. \n",
      "\n",
      "3. Take time to relax: Once a solution has been found, it is important to take time to relax and reflect on the situation. This might involve taking a few deep breaths, going for a walk, or doing something that brings joy. Taking time to relax will help to refocus the mind and shift from feeling frustrated to feeling happy.\u001b[0m\n",
      "\u001b[33;1m\u001b[1;3m\n",
      "\n",
      "A. Identify the source of the frustration\n",
      "\n",
      "B. Find a solution\n",
      "\n",
      "C. Take time to relax\u001b[0m\n",
      "\n",
      "\u001b[1m> Finished chain.\u001b[0m\n",
      "\n",
      "\n",
      "A. Identify the source of the frustration\n",
      "\n",
      "B. Find a solution\n",
      "\n",
      "C. Take time to relax\n"
     ]
    }
   ],
   "source": [
    "from langchain.chains import SimpleSequentialChain\n",
    "overall_chain = SimpleSequentialChain(chains=[chain, chain_two], verbose=True)\n",
    "\n",
    "# Run the shain specifying only the input variable for the first chain\n",
    "explanation = overall_chain.run(\"fraustration\")\n",
    "print(explanation)"
   ]
  },
  {
   "cell_type": "code",
   "execution_count": 61,
   "metadata": {},
   "outputs": [
    {
     "name": "stdout",
     "output_type": "stream",
     "text": [
      "\n",
      "\n",
      "\u001b[1m> Entering new SimpleSequentialChain chain...\u001b[0m\n",
      "\u001b[36;1m\u001b[1;3m\n",
      "1. Take a Break: When feeling frustrated, it is important to take a short break to gather yourself and clear your mind. Step away from the situation for a few minutes and take deep breaths. This will help to reduce the intensity of the emotion.\n",
      "\n",
      "2. Change Your Perspective: Reframe the situation and look at it in a different way. Ask yourself what the positive aspects of the situation are and focus on that. This will help to shift your focus to the positive aspects of the situation.\n",
      "\n",
      "3. Take Action: Choose to act in a way that will bring about positive results. Take action to address the underlying cause of the frustration. Develop a plan of action and take small steps to make progress toward a positive outcome. This will help to reduce the feelings of frustration and create a sense of accomplishment.\u001b[0m\n",
      "\u001b[33;1m\u001b[1;3m\n",
      "\n",
      "Sub-Step 1: Take a Break: Find a quiet space and take a few deep breaths to help clear your mind.\n",
      "\n",
      "Sub-Step 2: Change Your Perspective: Shift your focus to the positive aspects of the situation by asking yourself what the positive aspects are.\n",
      "\n",
      "Sub-Step 3: Take Action: Develop a plan of action to address the underlying cause of the frustration and take small steps to make progress.\u001b[0m\n",
      "\n",
      "\u001b[1m> Finished chain.\u001b[0m\n",
      "\n",
      "\n",
      "Sub-Step 1: Take a Break: Find a quiet space and take a few deep breaths to help clear your mind.\n",
      "\n",
      "Sub-Step 2: Change Your Perspective: Shift your focus to the positive aspects of the situation by asking yourself what the positive aspects are.\n",
      "\n",
      "Sub-Step 3: Take Action: Develop a plan of action to address the underlying cause of the frustration and take small steps to make progress.\n"
     ]
    }
   ],
   "source": [
    "second_prompt = PromptTemplate(\n",
    "    input_variables=[\"negative_emotion\"],\n",
    "    template=\"Turn each step of three steps for changing {negative_emotion} to hapiness, to three sub-steps.\",\n",
    ")\n",
    "chain_two = LLMChain(llm=llm, prompt=second_prompt)\n",
    "\n",
    "overall_chain = SimpleSequentialChain(chains=[chain, chain_two], verbose=True)\n",
    "\n",
    "# Run the shain specifying only the input variable for the first chain\n",
    "explanation = overall_chain.run(\"fraustration\")\n",
    "print(explanation)"
   ]
  },
  {
   "cell_type": "markdown",
   "metadata": {},
   "source": [
    "#### Same prompt but to check the difference between each response"
   ]
  },
  {
   "cell_type": "code",
   "execution_count": 62,
   "metadata": {},
   "outputs": [
    {
     "name": "stdout",
     "output_type": "stream",
     "text": [
      "\n",
      "\n",
      "\u001b[1m> Entering new SimpleSequentialChain chain...\u001b[0m\n",
      "\u001b[36;1m\u001b[1;3m\n",
      "1. Take a break: Step away from the situation that is causing your frustration and take a few moments for yourself to recenter. This could be as simple as stepping outside for a few minutes or going for a walk.\n",
      "\n",
      "2. Reframe your thoughts: Observe your thoughts and try to reframe them in a more positive light. Instead of feeling overwhelmed, focus on the progress you’ve made and how far you’ve come.\n",
      "\n",
      "3. Practice gratitude: Take a moment to be grateful for something in your life. This could be anything from the people around you to the sunshine in the sky. Gratitude helps to put our lives into perspective and can help to shift our emotions from frustration to happiness.\u001b[0m\n",
      "\u001b[33;1m\u001b[1;3m\n",
      "\n",
      "Sub-Step 1: Step away from the situation and take a few moments for yourself.\n",
      "\n",
      "Sub-Step 2: Observe your thoughts and reframe them into a more positive light.\n",
      "\n",
      "Sub-Step 3: Take a moment to be grateful for something in your life.\u001b[0m\n",
      "\n",
      "\u001b[1m> Finished chain.\u001b[0m\n",
      "\n",
      "\n",
      "Sub-Step 1: Step away from the situation and take a few moments for yourself.\n",
      "\n",
      "Sub-Step 2: Observe your thoughts and reframe them into a more positive light.\n",
      "\n",
      "Sub-Step 3: Take a moment to be grateful for something in your life.\n"
     ]
    }
   ],
   "source": [
    "second_prompt = PromptTemplate(\n",
    "    input_variables=[\"negative_emotion\"],\n",
    "    template=\"Turn each step of three steps for changing {negative_emotion} to hapiness, to three sub-steps.\",\n",
    ")\n",
    "chain_two = LLMChain(llm=llm, prompt=second_prompt)\n",
    "\n",
    "overall_chain = SimpleSequentialChain(chains=[chain, chain_two], verbose=True)\n",
    "\n",
    "\n",
    "# Run the shain specifying only the input variable for the first chain\n",
    "explanation = overall_chain.run(\"fraustration\")\n",
    "print(explanation)"
   ]
  },
  {
   "cell_type": "code",
   "execution_count": null,
   "metadata": {},
   "outputs": [],
   "source": []
  },
  {
   "cell_type": "markdown",
   "metadata": {},
   "source": [
    "#### Another example to understand how it works"
   ]
  },
  {
   "cell_type": "code",
   "execution_count": 63,
   "metadata": {},
   "outputs": [
    {
     "name": "stdout",
     "output_type": "stream",
     "text": [
      "\n",
      "1. Frustration\n",
      "2. Resentment\n",
      "3. Hostility\n"
     ]
    }
   ],
   "source": [
    "from langchain import PromptTemplate\n",
    "\n",
    "template = \"\"\"\n",
    "You are an expert in psychology especially emotions. You get a negative emotion name and return three other emotions name which usually comes from with it.\n",
    "List the name of three emotions comes with {emotion}.\n",
    "\"\"\"\n",
    "\n",
    "prompt = PromptTemplate(\n",
    "    input_variables=[\"emotion\"],\n",
    "    template=template,\n",
    "\n",
    ")\n",
    "\n",
    "chain = LLMChain(llm=llm, prompt=prompt)\n",
    "\n",
    "# Run the Chain only specifying the input variable\n",
    "print(chain.run(\"anger\"))"
   ]
  },
  {
   "cell_type": "code",
   "execution_count": 68,
   "metadata": {},
   "outputs": [],
   "source": [
    "second_prompt = PromptTemplate(\n",
    "    input_variables=[\"emotions_list\"],\n",
    "    template=\"Explain each of given emotions in two lines. The emotions are {emotions_list}.\",\n",
    ")\n",
    "chain_two = LLMChain(llm=llm, prompt=second_prompt)"
   ]
  },
  {
   "cell_type": "code",
   "execution_count": 69,
   "metadata": {},
   "outputs": [
    {
     "name": "stdout",
     "output_type": "stream",
     "text": [
      "\n",
      "\n",
      "\u001b[1m> Entering new SimpleSequentialChain chain...\u001b[0m\n",
      "\u001b[36;1m\u001b[1;3m\n",
      "1. Frustration\n",
      "2. Resentment\n",
      "3. Disgust\u001b[0m\n",
      "\u001b[33;1m\u001b[1;3m\n",
      "\n",
      "1. Frustration: Frustration is an emotion characterized by feelings of anger, disappointment, and dissatisfaction due to an inability to achieve a desired outcome.\n",
      "\n",
      "2. Resentment: Resentment is an emotion characterized by a strong feeling of displeasure or indignation caused by a perceived wrong or insult.\n",
      "\n",
      "3. Disgust: Disgust is an emotion characterized by an aversion to something considered unpleasant, offensive, or repulsive.\u001b[0m\n",
      "\n",
      "\u001b[1m> Finished chain.\u001b[0m\n",
      "\n",
      "\n",
      "1. Frustration: Frustration is an emotion characterized by feelings of anger, disappointment, and dissatisfaction due to an inability to achieve a desired outcome.\n",
      "\n",
      "2. Resentment: Resentment is an emotion characterized by a strong feeling of displeasure or indignation caused by a perceived wrong or insult.\n",
      "\n",
      "3. Disgust: Disgust is an emotion characterized by an aversion to something considered unpleasant, offensive, or repulsive.\n"
     ]
    }
   ],
   "source": [
    "overall_chain = SimpleSequentialChain(chains=[chain, chain_two], verbose=True)\n",
    "\n",
    "# Run the shain specifying only the input variable for the first chain\n",
    "explanation = overall_chain.run(\"anger\")\n",
    "print(explanation)"
   ]
  },
  {
   "cell_type": "code",
   "execution_count": null,
   "metadata": {},
   "outputs": [],
   "source": []
  },
  {
   "cell_type": "markdown",
   "metadata": {},
   "source": [
    "#### Personality Predictor"
   ]
  },
  {
   "cell_type": "code",
   "execution_count": 84,
   "metadata": {},
   "outputs": [
    {
     "ename": "ValueError",
     "evalue": "A single string input was passed in, but this chain expects multiple inputs (set()). When a chain expects multiple inputs, please call it by passing in a dictionary, eg `chain({'foo': 1, 'bar': 2})`",
     "output_type": "error",
     "traceback": [
      "\u001b[0;31m---------------------------------------------------------------------------\u001b[0m",
      "\u001b[0;31mValueError\u001b[0m                                Traceback (most recent call last)",
      "Cell \u001b[0;32mIn[84], line 17\u001b[0m\n\u001b[1;32m     14\u001b[0m chain \u001b[39m=\u001b[39m LLMChain(llm\u001b[39m=\u001b[39mllm, prompt\u001b[39m=\u001b[39mprompt)\n\u001b[1;32m     16\u001b[0m \u001b[39m# Run the Chain only specifying the input variable\u001b[39;00m\n\u001b[0;32m---> 17\u001b[0m \u001b[39mprint\u001b[39m(chain\u001b[39m.\u001b[39;49mrun(\u001b[39m'\u001b[39;49m\u001b[39m'\u001b[39;49m))\n",
      "File \u001b[0;32m~/GitHub/LangChain-playgroud/venv/lib/python3.11/site-packages/langchain/chains/base.py:440\u001b[0m, in \u001b[0;36mChain.run\u001b[0;34m(self, callbacks, tags, metadata, *args, **kwargs)\u001b[0m\n\u001b[1;32m    438\u001b[0m     \u001b[39mif\u001b[39;00m \u001b[39mlen\u001b[39m(args) \u001b[39m!=\u001b[39m \u001b[39m1\u001b[39m:\n\u001b[1;32m    439\u001b[0m         \u001b[39mraise\u001b[39;00m \u001b[39mValueError\u001b[39;00m(\u001b[39m\"\u001b[39m\u001b[39m`run` supports only one positional argument.\u001b[39m\u001b[39m\"\u001b[39m)\n\u001b[0;32m--> 440\u001b[0m     \u001b[39mreturn\u001b[39;00m \u001b[39mself\u001b[39;49m(args[\u001b[39m0\u001b[39;49m], callbacks\u001b[39m=\u001b[39;49mcallbacks, tags\u001b[39m=\u001b[39;49mtags, metadata\u001b[39m=\u001b[39;49mmetadata)[\n\u001b[1;32m    441\u001b[0m         _output_key\n\u001b[1;32m    442\u001b[0m     ]\n\u001b[1;32m    444\u001b[0m \u001b[39mif\u001b[39;00m kwargs \u001b[39mand\u001b[39;00m \u001b[39mnot\u001b[39;00m args:\n\u001b[1;32m    445\u001b[0m     \u001b[39mreturn\u001b[39;00m \u001b[39mself\u001b[39m(kwargs, callbacks\u001b[39m=\u001b[39mcallbacks, tags\u001b[39m=\u001b[39mtags, metadata\u001b[39m=\u001b[39mmetadata)[\n\u001b[1;32m    446\u001b[0m         _output_key\n\u001b[1;32m    447\u001b[0m     ]\n",
      "File \u001b[0;32m~/GitHub/LangChain-playgroud/venv/lib/python3.11/site-packages/langchain/chains/base.py:220\u001b[0m, in \u001b[0;36mChain.__call__\u001b[0;34m(self, inputs, return_only_outputs, callbacks, tags, metadata, include_run_info)\u001b[0m\n\u001b[1;32m    185\u001b[0m \u001b[39mdef\u001b[39;00m \u001b[39m__call__\u001b[39m(\n\u001b[1;32m    186\u001b[0m     \u001b[39mself\u001b[39m,\n\u001b[1;32m    187\u001b[0m     inputs: Union[Dict[\u001b[39mstr\u001b[39m, Any], Any],\n\u001b[0;32m   (...)\u001b[0m\n\u001b[1;32m    193\u001b[0m     include_run_info: \u001b[39mbool\u001b[39m \u001b[39m=\u001b[39m \u001b[39mFalse\u001b[39;00m,\n\u001b[1;32m    194\u001b[0m ) \u001b[39m-\u001b[39m\u001b[39m>\u001b[39m Dict[\u001b[39mstr\u001b[39m, Any]:\n\u001b[1;32m    195\u001b[0m \u001b[39m    \u001b[39m\u001b[39m\"\"\"Execute the chain.\u001b[39;00m\n\u001b[1;32m    196\u001b[0m \n\u001b[1;32m    197\u001b[0m \u001b[39m    Args:\u001b[39;00m\n\u001b[0;32m   (...)\u001b[0m\n\u001b[1;32m    218\u001b[0m \u001b[39m            `Chain.output_keys`.\u001b[39;00m\n\u001b[1;32m    219\u001b[0m \u001b[39m    \"\"\"\u001b[39;00m\n\u001b[0;32m--> 220\u001b[0m     inputs \u001b[39m=\u001b[39m \u001b[39mself\u001b[39;49m\u001b[39m.\u001b[39;49mprep_inputs(inputs)\n\u001b[1;32m    221\u001b[0m     callback_manager \u001b[39m=\u001b[39m CallbackManager\u001b[39m.\u001b[39mconfigure(\n\u001b[1;32m    222\u001b[0m         callbacks,\n\u001b[1;32m    223\u001b[0m         \u001b[39mself\u001b[39m\u001b[39m.\u001b[39mcallbacks,\n\u001b[0;32m   (...)\u001b[0m\n\u001b[1;32m    228\u001b[0m         \u001b[39mself\u001b[39m\u001b[39m.\u001b[39mmetadata,\n\u001b[1;32m    229\u001b[0m     )\n\u001b[1;32m    230\u001b[0m     new_arg_supported \u001b[39m=\u001b[39m inspect\u001b[39m.\u001b[39msignature(\u001b[39mself\u001b[39m\u001b[39m.\u001b[39m_call)\u001b[39m.\u001b[39mparameters\u001b[39m.\u001b[39mget(\u001b[39m\"\u001b[39m\u001b[39mrun_manager\u001b[39m\u001b[39m\"\u001b[39m)\n",
      "File \u001b[0;32m~/GitHub/LangChain-playgroud/venv/lib/python3.11/site-packages/langchain/chains/base.py:364\u001b[0m, in \u001b[0;36mChain.prep_inputs\u001b[0;34m(self, inputs)\u001b[0m\n\u001b[1;32m    362\u001b[0m         _input_keys \u001b[39m=\u001b[39m _input_keys\u001b[39m.\u001b[39mdifference(\u001b[39mself\u001b[39m\u001b[39m.\u001b[39mmemory\u001b[39m.\u001b[39mmemory_variables)\n\u001b[1;32m    363\u001b[0m     \u001b[39mif\u001b[39;00m \u001b[39mlen\u001b[39m(_input_keys) \u001b[39m!=\u001b[39m \u001b[39m1\u001b[39m:\n\u001b[0;32m--> 364\u001b[0m         \u001b[39mraise\u001b[39;00m \u001b[39mValueError\u001b[39;00m(\n\u001b[1;32m    365\u001b[0m             \u001b[39mf\u001b[39m\u001b[39m\"\u001b[39m\u001b[39mA single string input was passed in, but this chain expects \u001b[39m\u001b[39m\"\u001b[39m\n\u001b[1;32m    366\u001b[0m             \u001b[39mf\u001b[39m\u001b[39m\"\u001b[39m\u001b[39mmultiple inputs (\u001b[39m\u001b[39m{\u001b[39;00m_input_keys\u001b[39m}\u001b[39;00m\u001b[39m). When a chain expects \u001b[39m\u001b[39m\"\u001b[39m\n\u001b[1;32m    367\u001b[0m             \u001b[39mf\u001b[39m\u001b[39m\"\u001b[39m\u001b[39mmultiple inputs, please call it by passing in a dictionary, \u001b[39m\u001b[39m\"\u001b[39m\n\u001b[1;32m    368\u001b[0m             \u001b[39m\"\u001b[39m\u001b[39meg `chain(\u001b[39m\u001b[39m{\u001b[39m\u001b[39m'\u001b[39m\u001b[39mfoo\u001b[39m\u001b[39m'\u001b[39m\u001b[39m: 1, \u001b[39m\u001b[39m'\u001b[39m\u001b[39mbar\u001b[39m\u001b[39m'\u001b[39m\u001b[39m: 2})`\u001b[39m\u001b[39m\"\u001b[39m\n\u001b[1;32m    369\u001b[0m         )\n\u001b[1;32m    370\u001b[0m     inputs \u001b[39m=\u001b[39m {\u001b[39mlist\u001b[39m(_input_keys)[\u001b[39m0\u001b[39m]: inputs}\n\u001b[1;32m    371\u001b[0m \u001b[39mif\u001b[39;00m \u001b[39mself\u001b[39m\u001b[39m.\u001b[39mmemory \u001b[39mis\u001b[39;00m \u001b[39mnot\u001b[39;00m \u001b[39mNone\u001b[39;00m:\n",
      "\u001b[0;31mValueError\u001b[0m: A single string input was passed in, but this chain expects multiple inputs (set()). When a chain expects multiple inputs, please call it by passing in a dictionary, eg `chain({'foo': 1, 'bar': 2})`"
     ]
    }
   ],
   "source": [
    "from langchain import PromptTemplate\n",
    "\n",
    "template = \"\"\"\n",
    "You are a psychologist and sociologist expert in predictiong human characteristics.\n",
    "What are three most important factors to consider when first meet someone?\n",
    "\"\"\"\n",
    "\n",
    "prompt = PromptTemplate(\n",
    "    input_variables=[],\n",
    "    template=template,\n",
    "\n",
    ")\n",
    "\n",
    "chain = LLMChain(llm=llm, prompt=prompt)\n",
    "\n",
    "# Run the Chain only specifying the input variable\n",
    "print(chain.run(''))"
   ]
  },
  {
   "cell_type": "code",
   "execution_count": null,
   "metadata": {},
   "outputs": [],
   "source": []
  },
  {
   "cell_type": "code",
   "execution_count": null,
   "metadata": {},
   "outputs": [],
   "source": []
  },
  {
   "cell_type": "code",
   "execution_count": null,
   "metadata": {},
   "outputs": [],
   "source": []
  },
  {
   "cell_type": "code",
   "execution_count": null,
   "metadata": {},
   "outputs": [],
   "source": []
  },
  {
   "cell_type": "code",
   "execution_count": null,
   "metadata": {},
   "outputs": [],
   "source": []
  },
  {
   "cell_type": "code",
   "execution_count": null,
   "metadata": {},
   "outputs": [],
   "source": []
  },
  {
   "cell_type": "code",
   "execution_count": null,
   "metadata": {},
   "outputs": [],
   "source": []
  },
  {
   "cell_type": "markdown",
   "metadata": {},
   "source": [
    "#### Sport Planner"
   ]
  },
  {
   "cell_type": "code",
   "execution_count": 82,
   "metadata": {},
   "outputs": [
    {
     "name": "stdout",
     "output_type": "stream",
     "text": [
      "\n",
      "Monday:\n",
      "\n",
      "• Warm-up - 10 minutes of light cardio (e.g. jogging, brisk walking, cycling, etc.)\n",
      "\n",
      "• Chest - 3 sets of 8-10 reps of bench press, 3 sets of 8-10 reps of incline bench press, 3 sets of 8-10 reps of dumbbell flyes\n",
      "\n",
      "• Back - 3 sets of 8-10 reps of pull-ups, 3 sets of 8-10 reps of bent over rows, 3 sets of 8-10 reps of lat pulldowns\n",
      "\n",
      "• Legs - 3 sets of 8-10 reps of squats, 3 sets of 8-10 reps of deadlifts, 3 sets of 8-10 reps of leg press\n",
      "\n",
      "• Shoulders - 3 sets of 8-10 reps of shoulder press, 3 sets of 8-10 reps of lateral raises, 3 sets of 8-10 reps of front raises\n",
      "\n",
      "• Biceps - 3 sets of 8-10 reps of bicep curls, 3 sets of 8-10 reps of hammer curls\n",
      "\n",
      "• Triceps - 3 sets of 8-10 reps of tricep dips, 3 sets of 8-10 reps of tricep extensions\n",
      "\n",
      "• Core - 3 sets of 8-\n"
     ]
    }
   ],
   "source": [
    "from langchain import PromptTemplate\n",
    "\n",
    "template = \"\"\"\n",
    "You are an expert in Sports. You generate workout plan based on given information.\n",
    "What is the best plan for maximizing {goal} if I want to do exercise {duration} per day, {days} times per week? \n",
    "\"\"\"\n",
    "\n",
    "prompt = PromptTemplate(\n",
    "    input_variables=[\"days\", \"duration\", \"goal\"],\n",
    "    template=template,\n",
    "\n",
    ")\n",
    "\n",
    "chain = LLMChain(llm=llm, prompt=prompt)\n",
    "\n",
    "# Run the Chain only specifying the input variable\n",
    "print(chain.run(days=\"five\", duration=\"60 minutes\", goal=\"gain muscle\"))"
   ]
  },
  {
   "cell_type": "code",
   "execution_count": null,
   "metadata": {},
   "outputs": [],
   "source": []
  }
 ],
 "metadata": {
  "kernelspec": {
   "display_name": "venv",
   "language": "python",
   "name": "python3"
  },
  "language_info": {
   "codemirror_mode": {
    "name": "ipython",
    "version": 3
   },
   "file_extension": ".py",
   "mimetype": "text/x-python",
   "name": "python",
   "nbconvert_exporter": "python",
   "pygments_lexer": "ipython3",
   "version": "3.11.4"
  },
  "orig_nbformat": 4
 },
 "nbformat": 4,
 "nbformat_minor": 2
}
