{
 "cells": [
  {
   "cell_type": "code",
   "execution_count": 3,
   "metadata": {},
   "outputs": [
    {
     "data": {
      "text/plain": [
       "True"
      ]
     },
     "execution_count": 3,
     "metadata": {},
     "output_type": "execute_result"
    }
   ],
   "source": [
    "from dotenv import load_dotenv, find_dotenv\n",
    "load_dotenv(find_dotenv())"
   ]
  },
  {
   "cell_type": "code",
   "execution_count": 5,
   "metadata": {},
   "outputs": [
    {
     "data": {
      "text/plain": [
       "'\\n\\nLangChain is a decentralized language learning platform that uses blockchain technology to facilitate the exchange of knowledge between language learners and teachers.'"
      ]
     },
     "execution_count": 5,
     "metadata": {},
     "output_type": "execute_result"
    }
   ],
   "source": [
    "from langchain.llms import OpenAI\n",
    "llm = OpenAI(tiktoken_model_name=\"text-davinci-003\")\n",
    "llm(\"explain what is LangChain in one sentence\")"
   ]
  },
  {
   "cell_type": "code",
   "execution_count": 6,
   "metadata": {},
   "outputs": [],
   "source": [
    "from langchain.schema import (\n",
    "    AIMessage,\n",
    "    SystemMessage,\n",
    "    HumanMessage\n",
    ")\n",
    "from langchain.chat_models import ChatOpenAI"
   ]
  },
  {
   "cell_type": "code",
   "execution_count": 8,
   "metadata": {},
   "outputs": [],
   "source": [
    "chat = ChatOpenAI(model_name=\"gpt-3.5-turbo\", temperature=0.3)\n",
    "message = [\n",
    "    SystemMessage(content=\"You are an expert data scientist\"),\n",
    "    HumanMessage(content=\"Write a Python sctipt that run box-cox transformation on numerical columns of a dataframe.\")\n",
    "]\n",
    "response = chat(message)"
   ]
  },
  {
   "cell_type": "code",
   "execution_count": 22,
   "metadata": {},
   "outputs": [
    {
     "name": "stdout",
     "output_type": "stream",
     "text": [
      "Sure! Here's a Python script that uses the `scipy` library to perform the Box-Cox transformation on numerical columns of a dataframe:\n",
      "\n",
      "```python\n",
      "import pandas as pd\n",
      "from scipy import stats\n",
      "\n",
      "def boxcox_transform(df):\n",
      "    # Create a new dataframe to store the transformed values\n",
      "    transformed_df = pd.DataFrame()\n",
      "\n",
      "    # Iterate over each column in the dataframe\n",
      "    for column in df.columns:\n",
      "        # Check if the column is numeric\n",
      "        if pd.api.types.is_numeric_dtype(df[column]):\n",
      "            # Apply the Box-Cox transformation\n",
      "            transformed_data, _ = stats.boxcox(df[column])\n",
      "\n",
      "            # Add the transformed values to the new dataframe\n",
      "            transformed_df[column] = transformed_data\n",
      "        else:\n",
      "            # If the column is not numeric, add it as it is to the new dataframe\n",
      "            transformed_df[column] = df[column]\n",
      "\n",
      "    return transformed_df\n",
      "\n",
      "# Example usage\n",
      "# Create a sample dataframe\n",
      "data = {'A': [1, 2, 3, 4, 5],\n",
      "        'B': [6, 7, 8, 9, 10],\n",
      "        'C': ['a', 'b', 'c', 'd', 'e']}\n",
      "df = pd.DataFrame(data)\n",
      "\n",
      "# Apply the Box-Cox transformation on the numerical columns\n",
      "transformed_df = boxcox_transform(df)\n",
      "\n",
      "# Print the original and transformed dataframes\n",
      "print(\"Original dataframe:\")\n",
      "print(df)\n",
      "print(\"\\nTransformed dataframe:\")\n",
      "print(transformed_df)\n",
      "```\n",
      "\n",
      "In this script, the `boxcox_transform` function takes a dataframe as input and returns a new dataframe with the Box-Cox transformed values. It iterates over each column in the dataframe and checks if the column is numeric using the `is_numeric_dtype` function from the `pandas` library. If the column is numeric, it applies the `boxcox` transformation from the `scipy` library and adds the transformed values to the new dataframe. If the column is not numeric, it adds it as it is to the new dataframe. Finally, it returns the transformed dataframe.\n",
      "\n",
      "You can replace the example usage with your own dataframe to apply the Box-Cox transformation on your data.\n"
     ]
    }
   ],
   "source": [
    "print(response.content, end='\\n')"
   ]
  },
  {
   "cell_type": "code",
   "execution_count": 26,
   "metadata": {},
   "outputs": [],
   "source": [
    "from langchain import PromptTemplate\n",
    "\n",
    "template = \"\"\"\n",
    "You are an expert in psychology especially emotions. You get a negative emotion name and give advice to turn that emotion to happiness.\n",
    "Explain how to turn feeling {negative_emotion} to hapiness in three steps.\n",
    "\"\"\"\n",
    "\n",
    "prompt = PromptTemplate(\n",
    "    input_variables=[\"negative_emotion\"],\n",
    "    template=template,\n",
    "\n",
    ")"
   ]
  },
  {
   "cell_type": "code",
   "execution_count": 31,
   "metadata": {},
   "outputs": [],
   "source": [
    "response = llm(prompt.format(negative_emotion='anger'))"
   ]
  },
  {
   "cell_type": "code",
   "execution_count": 32,
   "metadata": {},
   "outputs": [
    {
     "name": "stdout",
     "output_type": "stream",
     "text": [
      "\n",
      "1. Acknowledge Your Anger: The first step to turning anger into happiness is to acknowledge that you are feeling angry. Take a few moments to reflect on the situation that is causing your anger, and identify the thoughts, sensations, and behaviors that accompany the emotion.\n",
      "\n",
      "2. Reframe Your Perspective: After you have acknowledged your anger, it’s important to reframe your perspective on the situation. Remind yourself that even though it might feel like the situation is out of your control, you can choose how you respond to it. Take a moment to practice mindful breathing, and focus on creating positive thoughts about the situation.\n",
      "\n",
      "3. Take Action: Once you’ve acknowledged your anger and reframed your perspective, it’s time to take action to turn your anger into happiness. This can look different for everyone, but some examples include: writing down your feelings in a journal, engaging in relaxing activities like yoga or meditation, or talking to a friend for support. Taking action can help you process your emotions in a healthy way and eventually find happiness.\n"
     ]
    }
   ],
   "source": [
    "print(response)"
   ]
  },
  {
   "cell_type": "code",
   "execution_count": 33,
   "metadata": {},
   "outputs": [
    {
     "name": "stdout",
     "output_type": "stream",
     "text": [
      "\n",
      "1. Build Connections: Make an effort to reach out to people, whether it is old friends, family, or even acquaintances. Building meaningful connections with others can help fill the void of loneliness. \n",
      "\n",
      "2. Find a Hobby or Activity: Dedicate yourself to a hobby or activity that you enjoy. This can help to fill the time that would otherwise be spent feeling lonely. It can also help to build relationships with others that have similar interests. \n",
      "\n",
      "3. Practice Self Care: Take the time to focus on yourself and do things you enjoy. This could be anything from going for a walk, to reading a book or watching a movie. Taking the time to focus on what makes you happy can help to reduce the feeling of loneliness.\n"
     ]
    }
   ],
   "source": [
    "from langchain.chains import LLMChain\n",
    "chain = LLMChain(llm=llm, prompt=prompt)\n",
    "\n",
    "# Run the Chain only specifying the input variable\n",
    "print(chain.run(\"loneliness\"))"
   ]
  },
  {
   "cell_type": "markdown",
   "metadata": {},
   "source": [
    "#### Benchmark for differenc SimpleSequencialChain"
   ]
  },
  {
   "cell_type": "code",
   "execution_count": 38,
   "metadata": {},
   "outputs": [],
   "source": [
    "second_prompt = PromptTemplate(\n",
    "    input_variables=[\"negative_emotion\"],\n",
    "    template=\"Turn each step of {negative_emotion}, to three sub-steps.\",\n",
    ")\n",
    "chain_two = LLMChain(llm=llm, prompt=second_prompt)"
   ]
  },
  {
   "cell_type": "code",
   "execution_count": 39,
   "metadata": {},
   "outputs": [
    {
     "name": "stdout",
     "output_type": "stream",
     "text": [
      "\n",
      "\n",
      "\u001b[1m> Entering new SimpleSequentialChain chain...\u001b[0m\n",
      "\u001b[36;1m\u001b[1;3m\n",
      "1. Identify the Cause of Frustration: Start by identifying the source of your frustration. Is it something out of your control or is it something that can be changed? Once you have identified the source of your frustration, you can start to work on finding solutions.\n",
      "\n",
      "2. Take Action: Once you identify the source of your frustration, take action to help improve the situation. Some solutions can be as simple as changing your attitude or reframing the situation.\n",
      "\n",
      "3. Find Positive Outcomes: Focus on the positive outcomes that can come from your frustration. Whether it’s learning a new skill or finding a way to appreciate a difficult situation, look for the silver lining. Focusing on the positive can help you to move forward and enjoy life.\u001b[0m\n",
      "\u001b[33;1m\u001b[1;3m\n",
      "\n",
      "1. Identify the Cause of Frustration: \n",
      "a. Start by identifying the source of your frustration. \n",
      "b. Is it something out of your control or is it something that can be changed? \n",
      "c. Once you have identified the source of your frustration, you can start to work on finding solutions.\n",
      "\n",
      "2. Take Action: \n",
      "a. Once you identify the source of your frustration, take action to help improve the situation. \n",
      "b. Some solutions can be as simple as changing your attitude or reframing the situation.\n",
      "\n",
      "3. Find Positive Outcomes: \n",
      "a. Focus on the positive outcomes that can come from your frustration. \n",
      "b. Whether it’s learning a new skill or finding a way to appreciate a difficult situation, look for the silver lining. \n",
      "c. Focusing on the positive can help you to move forward and enjoy life.\u001b[0m\n",
      "\n",
      "\u001b[1m> Finished chain.\u001b[0m\n",
      "\n",
      "\n",
      "1. Identify the Cause of Frustration: \n",
      "a. Start by identifying the source of your frustration. \n",
      "b. Is it something out of your control or is it something that can be changed? \n",
      "c. Once you have identified the source of your frustration, you can start to work on finding solutions.\n",
      "\n",
      "2. Take Action: \n",
      "a. Once you identify the source of your frustration, take action to help improve the situation. \n",
      "b. Some solutions can be as simple as changing your attitude or reframing the situation.\n",
      "\n",
      "3. Find Positive Outcomes: \n",
      "a. Focus on the positive outcomes that can come from your frustration. \n",
      "b. Whether it’s learning a new skill or finding a way to appreciate a difficult situation, look for the silver lining. \n",
      "c. Focusing on the positive can help you to move forward and enjoy life.\n"
     ]
    }
   ],
   "source": [
    "from langchain.chains import SimpleSequentialChain\n",
    "overall_chain = SimpleSequentialChain(chains=[chain, chain_two], verbose=True)\n",
    "\n",
    "# Run the shain specifying only the input variable for the first chain\n",
    "explanation = overall_chain.run(\"fraustration\")\n",
    "print(explanation)"
   ]
  },
  {
   "cell_type": "code",
   "execution_count": 40,
   "metadata": {},
   "outputs": [
    {
     "name": "stdout",
     "output_type": "stream",
     "text": [
      "\n",
      "\n",
      "\u001b[1m> Entering new SimpleSequentialChain chain...\u001b[0m\n",
      "\u001b[36;1m\u001b[1;3m\n",
      "1. Identify the source of your frustration: Take a moment to pause and think about what is causing your frustration. Is it a person, a situation, or a feeling? Once you have identified the source, it will be easier to come up with a plan to address it.\n",
      "\n",
      "2. Take a Break: Frustration can be a sign that you are feeling overwhelmed. Taking a break can help to clear your mind and give you a chance to reframe the situation. Go for a walk, listen to music, or do something else that you find calming.\n",
      "\n",
      "3. Look for Solutions: Instead of dwelling on the frustration, focus on finding a solution. Brainstorm ideas, reach out to someone for support, or take a new approach to the problem. Taking action will help to create a sense of accomplishment and happiness.\u001b[0m\n",
      "\u001b[33;1m\u001b[1;3m\n",
      "\n",
      "1.1. Pause and think about the source of your frustration\n",
      "1.2. Identify if the source is a person, situation, or feeling\n",
      "1.3. Come up with a plan to address it\n",
      "\n",
      "2.1. Take a break to clear your mind and reframe the situation\n",
      "2.2. Go for a walk, listen to music, or do something else calming\n",
      "2.3. Re-focus your energy on finding a solution\n",
      "\n",
      "3.1. Brainstorm ideas to address the frustration\n",
      "3.2. Reach out to someone for support\n",
      "3.3. Take a new approach to the problem\u001b[0m\n",
      "\n",
      "\u001b[1m> Finished chain.\u001b[0m\n",
      "\n",
      "\n",
      "1.1. Pause and think about the source of your frustration\n",
      "1.2. Identify if the source is a person, situation, or feeling\n",
      "1.3. Come up with a plan to address it\n",
      "\n",
      "2.1. Take a break to clear your mind and reframe the situation\n",
      "2.2. Go for a walk, listen to music, or do something else calming\n",
      "2.3. Re-focus your energy on finding a solution\n",
      "\n",
      "3.1. Brainstorm ideas to address the frustration\n",
      "3.2. Reach out to someone for support\n",
      "3.3. Take a new approach to the problem\n"
     ]
    }
   ],
   "source": [
    "second_prompt = PromptTemplate(\n",
    "    input_variables=[\"negative_emotion\"],\n",
    "    template=\"Turn each step of three steps for changing {negative_emotion} to hapiness, to three sub-steps.\",\n",
    ")\n",
    "chain_two = LLMChain(llm=llm, prompt=second_prompt)\n",
    "\n",
    "# Run the shain specifying only the input variable for the first chain\n",
    "explanation = overall_chain.run(\"fraustration\")\n",
    "print(explanation)"
   ]
  },
  {
   "cell_type": "markdown",
   "metadata": {},
   "source": [
    "#### Same prompt but to check the difference between each response"
   ]
  },
  {
   "cell_type": "code",
   "execution_count": 41,
   "metadata": {},
   "outputs": [
    {
     "name": "stdout",
     "output_type": "stream",
     "text": [
      "\n",
      "\n",
      "\u001b[1m> Entering new SimpleSequentialChain chain...\u001b[0m\n",
      "\u001b[36;1m\u001b[1;3m\n",
      "1. Identify the Source of Frustration: Take a moment to think about why you’re feeling frustrated. Is it because of a certain person or situation? Once you can pinpoint the source of your frustration, it will become easier to address the issue.\n",
      "\n",
      "2. Reframe Your Thinking: Once you know the source of your frustration, try to look at it from a different perspective. Remind yourself that there are two sides to every story and try to find the silver lining in the situation.\n",
      "\n",
      "3. Take Action: Once you’ve identified the source of your frustration and reframed your thinking, it’s time to take action. This could mean having a conversation with the person or people involved, changing the way you approach the situation, or simply taking some time for yourself to relax and unwind. Taking action will help you to release the feeling of frustration and create a sense of accomplishment that can bring happiness.\u001b[0m\n",
      "\u001b[33;1m\u001b[1;3m\n",
      "\n",
      "1.1 Identify the Source of Frustration: Take a moment to think about why you’re feeling frustrated. \n",
      "1.2 Isolate the person or situation. \n",
      "1.3 Pinpoint the source of your frustration. \n",
      "\n",
      "2.1 Reframe Your Thinking: Once you know the source of your frustration, try to look at it from a different perspective. \n",
      "2.2 Remind yourself that there are two sides to every story. \n",
      "2.3 Find the silver lining in the situation. \n",
      "\n",
      "3.1 Take Action: Once you’ve identified the source of your frustration and reframed your thinking, it’s time to take action. \n",
      "3.2 This could mean having a conversation with the person or people involved. \n",
      "3.3 It could also mean changing the way you approach the situation, or simply taking some time for yourself to relax and unwind.\u001b[0m\n",
      "\n",
      "\u001b[1m> Finished chain.\u001b[0m\n",
      "\n",
      "\n",
      "1.1 Identify the Source of Frustration: Take a moment to think about why you’re feeling frustrated. \n",
      "1.2 Isolate the person or situation. \n",
      "1.3 Pinpoint the source of your frustration. \n",
      "\n",
      "2.1 Reframe Your Thinking: Once you know the source of your frustration, try to look at it from a different perspective. \n",
      "2.2 Remind yourself that there are two sides to every story. \n",
      "2.3 Find the silver lining in the situation. \n",
      "\n",
      "3.1 Take Action: Once you’ve identified the source of your frustration and reframed your thinking, it’s time to take action. \n",
      "3.2 This could mean having a conversation with the person or people involved. \n",
      "3.3 It could also mean changing the way you approach the situation, or simply taking some time for yourself to relax and unwind.\n"
     ]
    }
   ],
   "source": [
    "second_prompt = PromptTemplate(\n",
    "    input_variables=[\"negative_emotion\"],\n",
    "    template=\"Turn each step of three steps for changing {negative_emotion} to hapiness, to three sub-steps.\",\n",
    ")\n",
    "chain_two = LLMChain(llm=llm, prompt=second_prompt)\n",
    "\n",
    "# Run the shain specifying only the input variable for the first chain\n",
    "explanation = overall_chain.run(\"fraustration\")\n",
    "print(explanation)"
   ]
  },
  {
   "cell_type": "code",
   "execution_count": null,
   "metadata": {},
   "outputs": [],
   "source": []
  }
 ],
 "metadata": {
  "kernelspec": {
   "display_name": "venv",
   "language": "python",
   "name": "python3"
  },
  "language_info": {
   "codemirror_mode": {
    "name": "ipython",
    "version": 3
   },
   "file_extension": ".py",
   "mimetype": "text/x-python",
   "name": "python",
   "nbconvert_exporter": "python",
   "pygments_lexer": "ipython3",
   "version": "3.11.4"
  },
  "orig_nbformat": 4
 },
 "nbformat": 4,
 "nbformat_minor": 2
}
